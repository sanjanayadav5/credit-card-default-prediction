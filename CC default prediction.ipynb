{
 "cells": [
  {
   "cell_type": "markdown",
   "id": "cd3bf115",
   "metadata": {},
   "source": [
    "## Import libraries and Dataset"
   ]
  },
  {
   "cell_type": "code",
   "execution_count": 3,
   "id": "955d3f64",
   "metadata": {},
   "outputs": [],
   "source": [
    "import logging\n",
    "\n",
    "logger = logging.getLogger()\n",
    "\n",
    "file_handler = logging.FileHandler(filename='project_log.log', mode='w')\n",
    "formatter = logging.Formatter('%(asctime)s - %(name)s - %(levelname)s - %(message)s')\n",
    "file_handler.setFormatter(formatter)\n",
    "logger.addHandler(file_handler)\n",
    "\n",
    "logger.setLevel(logging.DEBUG)\n",
    "logger.info('PROJECT FILE STARTS RUNNING!')"
   ]
  },
  {
   "cell_type": "code",
   "execution_count": 5,
   "id": "e05cb9df",
   "metadata": {},
   "outputs": [
    {
     "ename": "ModuleNotFoundError",
     "evalue": "No module named 'pandas'",
     "output_type": "error",
     "traceback": [
      "\u001b[1;31m---------------------------------------------------------------------------\u001b[0m",
      "\u001b[1;31mModuleNotFoundError\u001b[0m                       Traceback (most recent call last)",
      "Cell \u001b[1;32mIn[5], line 2\u001b[0m\n\u001b[0;32m      1\u001b[0m \u001b[38;5;66;03m# Importing libraries\u001b[39;00m\n\u001b[1;32m----> 2\u001b[0m \u001b[38;5;28;01mimport\u001b[39;00m \u001b[38;5;21;01mpandas\u001b[39;00m \u001b[38;5;28;01mas\u001b[39;00m \u001b[38;5;21;01mpd\u001b[39;00m\n\u001b[0;32m      3\u001b[0m \u001b[38;5;28;01mimport\u001b[39;00m \u001b[38;5;21;01mmatplotlib\u001b[39;00m\u001b[38;5;21;01m.\u001b[39;00m\u001b[38;5;21;01mpyplot\u001b[39;00m \u001b[38;5;28;01mas\u001b[39;00m \u001b[38;5;21;01mplt\u001b[39;00m\n\u001b[0;32m      4\u001b[0m \u001b[38;5;28;01mimport\u001b[39;00m \u001b[38;5;21;01mseaborn\u001b[39;00m \u001b[38;5;28;01mas\u001b[39;00m \u001b[38;5;21;01msns\u001b[39;00m\n",
      "\u001b[1;31mModuleNotFoundError\u001b[0m: No module named 'pandas'"
     ]
    }
   ],
   "source": [
    "# Importing libraries\n",
    "import pandas as pd\n",
    "import matplotlib.pyplot as plt\n",
    "import seaborn as sns\n",
    "import numpy as np\n",
    "from imblearn.over_sampling import SMOTE\n",
    "\n",
    "from sklearn.preprocessing import StandardScaler\n",
    "from sklearn.model_selection import train_test_split\n",
    "\n",
    "from sklearn.linear_model import LogisticRegression\n",
    "from sklearn.tree import DecisionTreeClassifier\n",
    "from sklearn.ensemble import RandomForestClassifier\n",
    "from sklearn.svm import SVC\n",
    "\n",
    "from sklearn.metrics import accuracy_score\n",
    "from sklearn.metrics import precision_score, recall_score, f1_score, confusion_matrix, classification_report, roc_curve # type: ignore\n",
    "\n",
    "import pickle\n",
    "\n",
    "import warnings\n",
    "warnings.filterwarnings('ignore')\n",
    "\n",
    "logger.info('LIBRARIES IMPORTED')"
   ]
  },
  {
   "cell_type": "code",
   "execution_count": 11,
   "id": "83ed3b57",
   "metadata": {},
   "outputs": [],
   "source": [
    "# Importing Data\n",
    "CC_DF = pd.read_csv('UCI_Credit_Card.csv')"
   ]
  },
  {
   "cell_type": "code",
   "execution_count": 12,
   "id": "2a6141be",
   "metadata": {},
   "outputs": [],
   "source": [
    "logger.info('DATA IMPORTED AND SAVING INTO PANDAS DATAFRAME!')"
   ]
  },
  {
   "cell_type": "markdown",
   "id": "5cf9d7fd",
   "metadata": {},
   "source": [
    "## EDA"
   ]
  },
  {
   "cell_type": "code",
   "execution_count": 13,
   "id": "8e77094a",
   "metadata": {},
   "outputs": [],
   "source": [
    "logger.info('EDA STARTED')"
   ]
  },
  {
   "cell_type": "code",
   "execution_count": null,
   "id": "afaf5b94",
   "metadata": {},
   "outputs": [],
   "source": [
    "print('Number of Columns - ',len(CC_DF.columns))\n",
    "print('Names of columns - ',CC_DF.columns)"
   ]
  },
  {
   "cell_type": "markdown",
   "id": "069000ea",
   "metadata": {},
   "source": [
    "There are 25(including ID) variables:\n",
    "\n",
    "    ID: ID of each client\n",
    "    LIMIT_BAL: Amount of given credit in NT dollars (includes individual and family/supplementary credit\n",
    "    SEX: Gender (1=male, 2=female)\n",
    "    EDUCATION: (1=graduate school, 2=university, 3=high school, 4=others, 5=unknown, 6=unknown)\n",
    "    MARRIAGE: Marital status (1=married, 2=single, 3=others)\n",
    "    AGE: Age in years\n",
    "    PAY_0: Repayment status in September, 2005 (-1=pay duly, 1=payment delay for one month, 2=payment delay for two months, … 8=payment delay for eight months, 9=payment delay for nine months and above)\n",
    "    PAY_2: Repayment status in August, 2005 (scale same as above)\n",
    "    PAY_3: Repayment status in July, 2005 (scale same as above)\n",
    "    PAY_4: Repayment status in June, 2005 (scale same as above)\n",
    "    PAY_5: Repayment status in May, 2005 (scale same as above)\n",
    "    PAY_6: Repayment status in April, 2005 (scale same as above)\n",
    "    BILL_AMT1: Amount of bill statement in September, 2005 (NT dollar)\n",
    "    BILL_AMT2: Amount of bill statement in August, 2005 (NT dollar)\n",
    "    BILL_AMT3: Amount of bill statement in July, 2005 (NT dollar)\n",
    "    BILL_AMT4: Amount of bill statement in June, 2005 (NT dollar)\n",
    "    BILL_AMT5: Amount of bill statement in May, 2005 (NT dollar)\n",
    "    BILL_AMT6: Amount of bill statement in April, 2005 (NT dollar)\n",
    "    PAY_AMT1: Amount of previous payment in September, 2005 (NT dollar)\n",
    "    PAY_AMT2: Amount of previous payment in August, 2005 (NT dollar)\n",
    "    PAY_AMT3: Amount of previous payment in July, 2005 (NT dollar)\n",
    "    PAY_AMT4: Amount of previous payment in June, 2005 (NT dollar)\n",
    "    PAY_AMT5: Amount of previous payment in May, 2005 (NT dollar)\n",
    "    PAY_AMT6: Amount of previous payment in April, 2005 (NT dollar)\n",
    "    default.payment.next.month: Default payment (1=yes, 0=no)\n"
   ]
  },
  {
   "cell_type": "code",
   "execution_count": 15,
   "id": "a1bfc951",
   "metadata": {},
   "outputs": [],
   "source": [
    "# ID is a uniqe and diffrent for customer to customr, So dropping it\n",
    "CC_DF.drop('ID',axis=1,inplace=True)"
   ]
  },
  {
   "cell_type": "code",
   "execution_count": null,
   "id": "68248fa0",
   "metadata": {},
   "outputs": [],
   "source": [
    "# Lets see the basic information of the data\n",
    "CC_DF.info()"
   ]
  },
  {
   "cell_type": "markdown",
   "id": "3e940df8",
   "metadata": {},
   "source": [
    "        > All the 24 column contains numbers with data type int or float\n",
    "        > There are 30000 cutomer data\n",
    "        > There 0 missing values in the data "
   ]
  },
  {
   "cell_type": "code",
   "execution_count": null,
   "id": "2f5337f8",
   "metadata": {},
   "outputs": [],
   "source": [
    "sns.countplot(x=CC_DF['SEX'])\n",
    "plt.xticks(ticks=[0,1],labels=['Male','Female'])\n",
    "plt.show"
   ]
  },
  {
   "cell_type": "markdown",
   "id": "9f458e27",
   "metadata": {},
   "source": [
    "> Compare to Male Female Creadit card users are more"
   ]
  },
  {
   "cell_type": "code",
   "execution_count": null,
   "id": "f3560438",
   "metadata": {},
   "outputs": [],
   "source": [
    "sns.countplot(x=CC_DF['SEX'],hue=CC_DF['default.payment.next.month'])\n",
    "plt.xticks(ticks=[0,1],labels=['Male','Female'])\n",
    "plt.show"
   ]
  },
  {
   "cell_type": "markdown",
   "id": "b95058b8",
   "metadata": {},
   "source": [
    "> Female are holding more credit cards then male but the defult is low compare to the male defaulters.\n",
    "> Male are holding less number of card compare to female but the defaulters  rate is high"
   ]
  },
  {
   "cell_type": "code",
   "execution_count": null,
   "id": "95aaa5c3",
   "metadata": {},
   "outputs": [],
   "source": [
    "#MARRIAGE: Marital status (1=married, 2=single, 3=others)\n",
    "CC_DF['MARRIAGE'].value_counts()"
   ]
  },
  {
   "cell_type": "code",
   "execution_count": 20,
   "id": "3f531491",
   "metadata": {},
   "outputs": [],
   "source": [
    "# As the marriage status will be married or not and there are 323+54 data which is coming under other, I will convert them to singal(2)\n",
    "CC_DF['MARRIAGE']=CC_DF['MARRIAGE'].apply(lambda x : 2 if x >2 or x < 1 else x)"
   ]
  },
  {
   "cell_type": "markdown",
   "id": "2428513a",
   "metadata": {},
   "source": [
    "CC_DF['MARRIAGE'].value_counts()"
   ]
  },
  {
   "cell_type": "code",
   "execution_count": null,
   "id": "2839c668",
   "metadata": {},
   "outputs": [],
   "source": [
    "sns.countplot(x=CC_DF['MARRIAGE'])"
   ]
  },
  {
   "cell_type": "markdown",
   "id": "0e4d280c",
   "metadata": {},
   "source": [
    "Now both are almost equl"
   ]
  },
  {
   "cell_type": "code",
   "execution_count": null,
   "id": "991dd821",
   "metadata": {},
   "outputs": [],
   "source": [
    "CC_DF.head()"
   ]
  },
  {
   "cell_type": "code",
   "execution_count": null,
   "id": "b106d5a2",
   "metadata": {},
   "outputs": [],
   "source": [
    "#EDUCATION: (1=graduate school, 2=university, 3=high school, 4=others, 5=unknown, 6=unknown)\n",
    "CC_DF['EDUCATION'].value_counts()"
   ]
  },
  {
   "cell_type": "code",
   "execution_count": 24,
   "id": "c1e85057",
   "metadata": {},
   "outputs": [],
   "source": [
    "# As 5,6,0 are unknown I am consedaring under others\n",
    "CC_DF['EDUCATION']=CC_DF['EDUCATION'].apply(lambda x : 4 if x >4 or x < 1 else x)"
   ]
  },
  {
   "cell_type": "code",
   "execution_count": null,
   "id": "75dbe3b5",
   "metadata": {},
   "outputs": [],
   "source": [
    "CC_DF['EDUCATION'].value_counts()"
   ]
  },
  {
   "cell_type": "code",
   "execution_count": null,
   "id": "d3de6878",
   "metadata": {},
   "outputs": [],
   "source": [
    "sns.countplot(x=CC_DF['EDUCATION'],hue=CC_DF['SEX'])\n",
    "plt.xticks(ticks=[0,1,2,3],labels=['graduate school','university','high school','others'])\n",
    "plt.show"
   ]
  },
  {
   "cell_type": "markdown",
   "id": "97f935da",
   "metadata": {},
   "source": [
    "From the above we can under stand Females are more aeducated then males"
   ]
  },
  {
   "cell_type": "markdown",
   "id": "10ec4f70",
   "metadata": {},
   "source": [
    "## Handling Outliers"
   ]
  },
  {
   "cell_type": "code",
   "execution_count": 27,
   "id": "48936324",
   "metadata": {},
   "outputs": [],
   "source": [
    "logger.info('HANDALING OUTLIERS STARTS!')"
   ]
  },
  {
   "cell_type": "code",
   "execution_count": null,
   "id": "73b36468",
   "metadata": {},
   "outputs": [],
   "source": [
    "CC_DF.head()"
   ]
  },
  {
   "cell_type": "markdown",
   "id": "18876c67",
   "metadata": {},
   "source": [
    "#### Limit Balance Column"
   ]
  },
  {
   "cell_type": "code",
   "execution_count": null,
   "id": "20cac33f",
   "metadata": {},
   "outputs": [],
   "source": [
    "plt.figure(figsize=(15,5))\n",
    "plt.subplot(1,2,2)\n",
    "\n",
    "plt.subplot(1,2,1)\n",
    "sns.distplot(CC_DF['LIMIT_BAL'])\n",
    "\n",
    "plt.subplot(1,2,2)\n",
    "sns.boxplot(CC_DF['LIMIT_BAL'])\n",
    "\n",
    "plt.show\n",
    "\n",
    "print('skewness - ',CC_DF['LIMIT_BAL'].skew())"
   ]
  },
  {
   "cell_type": "markdown",
   "id": "5b1cbec0",
   "metadata": {},
   "source": [
    "### OBSERVATIONS :\n",
    "        > Limit balance column is skewed to the left and skewness is near to 1.\n",
    "        > In box plot we can see there are outliers to be handeled.\n",
    "        > We will handel the outliers by using quantiles due to the skewed data.\n",
    "        \n",
    "        > As we apply quantiles we loss big number of data, So instant of removeing outliers I will capp them at upper_limit"
   ]
  },
  {
   "cell_type": "code",
   "execution_count": null,
   "id": "d879f2a3",
   "metadata": {},
   "outputs": [],
   "source": [
    "percentile25=CC_DF['LIMIT_BAL'].quantile(0.25) # Calculating 25th Quantile\n",
    "percentile75=CC_DF['LIMIT_BAL'].quantile(0.75) # Calculating 75th Quantile\n",
    "iqr=percentile75-percentile25 # Finding Inter Quantile Range\n",
    "upper_limit = percentile75 + 1.5 * iqr\n",
    "lower_limit = percentile25 - 1.5 * iqr\n",
    "print('25th percentile - ',percentile25,'75th percentile - ',percentile75)\n",
    "print('Upper Limit - ',upper_limit,'Lower Limit - ',lower_limit)"
   ]
  },
  {
   "cell_type": "code",
   "execution_count": 31,
   "id": "6fcd33ac",
   "metadata": {},
   "outputs": [],
   "source": [
    "CC_DF['LIMIT_BAL'] = np.where(CC_DF['LIMIT_BAL'] > upper_limit, upper_limit,\n",
    "                 np.where(CC_DF['LIMIT_BAL'] < lower_limit, lower_limit,CC_DF['LIMIT_BAL']))"
   ]
  },
  {
   "cell_type": "code",
   "execution_count": null,
   "id": "a5ef9dfd",
   "metadata": {},
   "outputs": [],
   "source": [
    "# Ploting box Plot After Outlier capping\n",
    "sns.boxplot(CC_DF['LIMIT_BAL'])\n",
    "plt.show"
   ]
  },
  {
   "cell_type": "markdown",
   "id": "aafd7bc2",
   "metadata": {},
   "source": [
    "All Outliers are capped according to the limits"
   ]
  },
  {
   "cell_type": "markdown",
   "id": "6739d414",
   "metadata": {},
   "source": [
    "#### Age Column"
   ]
  },
  {
   "cell_type": "code",
   "execution_count": null,
   "id": "63baf54c",
   "metadata": {},
   "outputs": [],
   "source": [
    "plt.figure(figsize=(15,5))\n",
    "plt.subplot(1,2,2)\n",
    "\n",
    "plt.subplot(1,2,1)\n",
    "sns.distplot(CC_DF['AGE'])\n",
    "\n",
    "plt.subplot(1,2,2)\n",
    "sns.boxplot(CC_DF['AGE'])\n",
    "\n",
    "plt.show\n",
    "\n",
    "print('skewness - ',CC_DF['AGE'].skew())"
   ]
  },
  {
   "cell_type": "markdown",
   "id": "ac19839b",
   "metadata": {},
   "source": [
    "### OBSERVATIONS :\n",
    "        > Age column is skewed to the left.\n",
    "        > In box plot we can see there are outliers to be handeled.\n",
    "        > We will handel the outliers by using quantiles due to the skewed data.\n",
    "        \n",
    "        > As we apply quantiles we loss big number of data, So instant of removeing outliers I will capp them at upper_limit"
   ]
  },
  {
   "cell_type": "code",
   "execution_count": null,
   "id": "dd06892a",
   "metadata": {},
   "outputs": [],
   "source": [
    "percentile25=CC_DF['AGE'].quantile(0.25) # Calculating 25th Quantile\n",
    "percentile75=CC_DF['AGE'].quantile(0.75) # Calculating 75th Quantile\n",
    "iqr=percentile75-percentile25 # Finding Inter Quantile Range\n",
    "upper_limit = percentile75 + 1.5 * iqr\n",
    "lower_limit = percentile25 - 1.5 * iqr\n",
    "print('25th percentile - ',percentile25,'75th percentile - ',percentile75)\n",
    "print('Upper Limit - ',upper_limit,'Lower Limit - ',lower_limit)"
   ]
  },
  {
   "cell_type": "code",
   "execution_count": 35,
   "id": "6fee4622",
   "metadata": {},
   "outputs": [],
   "source": [
    "CC_DF['AGE'] = np.where(CC_DF['AGE'] > upper_limit, upper_limit,\n",
    "                 np.where(CC_DF['AGE'] < lower_limit, lower_limit,CC_DF['AGE']))"
   ]
  },
  {
   "cell_type": "code",
   "execution_count": null,
   "id": "739a41a4",
   "metadata": {},
   "outputs": [],
   "source": [
    "# Ploting box Plot After Outlier capping\n",
    "sns.boxplot(CC_DF['AGE'])\n",
    "plt.show"
   ]
  },
  {
   "cell_type": "code",
   "execution_count": null,
   "id": "da5d854d",
   "metadata": {},
   "outputs": [],
   "source": [
    "CC_DF['LIMIT_BAL']"
   ]
  },
  {
   "cell_type": "code",
   "execution_count": null,
   "id": "a30e6e49",
   "metadata": {},
   "outputs": [],
   "source": [
    "plt.figure(figsize=(15,5))\n",
    "plt.subplot(1,2,2)\n",
    "\n",
    "plt.subplot(1,2,1)\n",
    "sns.distplot(CC_DF['LIMIT_BAL'])\n",
    "\n",
    "plt.subplot(1,2,2)\n",
    "sns.boxplot(CC_DF['LIMIT_BAL'])\n",
    "\n",
    "plt.show\n",
    "\n",
    "print('skewness - ',CC_DF['LIMIT_BAL'].skew())"
   ]
  },
  {
   "cell_type": "code",
   "execution_count": 39,
   "id": "1a9bf65e",
   "metadata": {},
   "outputs": [],
   "source": [
    "logger.info('HANDALING OUTLIERS ENDS!')"
   ]
  },
  {
   "cell_type": "code",
   "execution_count": null,
   "id": "52fb67a4",
   "metadata": {},
   "outputs": [],
   "source": [
    "plt.figure(figsize=(20,15))\n",
    "sns.heatmap(CC_DF.corr(),annot=True)\n",
    "plt.show"
   ]
  },
  {
   "cell_type": "code",
   "execution_count": 41,
   "id": "6bfc9936",
   "metadata": {},
   "outputs": [],
   "source": [
    "logger.info('EDA ENDS!')"
   ]
  },
  {
   "cell_type": "markdown",
   "id": "b7531710",
   "metadata": {},
   "source": [
    "## Handeling Imbalnced Data"
   ]
  },
  {
   "cell_type": "code",
   "execution_count": 42,
   "id": "936c7680",
   "metadata": {},
   "outputs": [],
   "source": [
    "logger.info('HANDALING IMBALENCED DATA STARTS!')"
   ]
  },
  {
   "cell_type": "code",
   "execution_count": null,
   "id": "af38a4fc",
   "metadata": {},
   "outputs": [],
   "source": [
    "print('Non Defaulter count - ',CC_DF['default.payment.next.month'].value_counts()[0])\n",
    "print('Non Defaulter Precent - ',((CC_DF['default.payment.next.month'].value_counts()[0])/len(CC_DF))*100,' %')\n",
    "print('Defaulter count - ',CC_DF['default.payment.next.month'].value_counts()[1])\n",
    "print('Defaulter Precent - ',((CC_DF['default.payment.next.month'].value_counts()[1])/len(CC_DF))*100,' %')"
   ]
  },
  {
   "cell_type": "code",
   "execution_count": null,
   "id": "be106230",
   "metadata": {},
   "outputs": [],
   "source": [
    "sns.countplot(x=CC_DF['default.payment.next.month'])"
   ]
  },
  {
   "cell_type": "markdown",
   "id": "3d8784fd",
   "metadata": {},
   "source": [
    "    > We can see it is an imbalance data set with 22% Defaulters and 78% Non-Defaulters\n",
    "    > To handel this we have to use Under or Over Sampling"
   ]
  },
  {
   "cell_type": "markdown",
   "id": "0c28a994",
   "metadata": {},
   "source": [
    "## Over Sampling"
   ]
  },
  {
   "cell_type": "code",
   "execution_count": 45,
   "id": "e1096def",
   "metadata": {},
   "outputs": [],
   "source": [
    "logger.info('HANDALING IMBALENCED DATA - OVER SAMPLEING STARTS!')"
   ]
  },
  {
   "cell_type": "code",
   "execution_count": 46,
   "id": "2a1f5f42",
   "metadata": {},
   "outputs": [],
   "source": [
    "# Initialise SMOTE object\n",
    "smote = SMOTE()"
   ]
  },
  {
   "cell_type": "code",
   "execution_count": 47,
   "id": "15024e8c",
   "metadata": {},
   "outputs": [],
   "source": [
    "# Separate independent and dependent variables\n",
    "X = CC_DF.drop('default.payment.next.month',axis=1)\n",
    "y = CC_DF['default.payment.next.month']"
   ]
  },
  {
   "cell_type": "code",
   "execution_count": 48,
   "id": "382c90dc",
   "metadata": {},
   "outputs": [],
   "source": [
    "# fit predictor and target variable\n",
    "x_smote, y_smote = smote.fit_resample(X, y)"
   ]
  },
  {
   "cell_type": "code",
   "execution_count": null,
   "id": "5564ce7f",
   "metadata": {},
   "outputs": [],
   "source": [
    "# Combine balanced X and y\n",
    "CC_DF_final = pd.DataFrame(x_smote, columns=CC_DF.columns[:-1])\n",
    "CC_DF_final['default'] = y_smote\n",
    "\n",
    "CC_DF_final.head()"
   ]
  },
  {
   "cell_type": "code",
   "execution_count": 50,
   "id": "8cd77d55",
   "metadata": {},
   "outputs": [],
   "source": [
    "logger.info('HANDALING IMBALENCED DATA - OVER SAMPLEING ENDS!')"
   ]
  },
  {
   "cell_type": "code",
   "execution_count": null,
   "id": "993e3aa3",
   "metadata": {},
   "outputs": [],
   "source": [
    "sns.countplot(x=CC_DF_final['default'])"
   ]
  },
  {
   "cell_type": "markdown",
   "id": "2c530b8f",
   "metadata": {},
   "source": [
    "Now data set is balanced"
   ]
  },
  {
   "cell_type": "code",
   "execution_count": 52,
   "id": "3d00eb8a",
   "metadata": {},
   "outputs": [],
   "source": [
    "logger.info('HANDALING IMBALENCED DATA ENDS!')"
   ]
  },
  {
   "cell_type": "markdown",
   "id": "a022ac53",
   "metadata": {},
   "source": [
    "## Splitting"
   ]
  },
  {
   "cell_type": "code",
   "execution_count": 53,
   "id": "7fe937bd",
   "metadata": {},
   "outputs": [],
   "source": [
    "logger.info('DATA PREPARING FOR MODELING STARTS!')"
   ]
  },
  {
   "cell_type": "code",
   "execution_count": 54,
   "id": "5095865b",
   "metadata": {},
   "outputs": [],
   "source": [
    "X = CC_DF_final.drop('default',axis=1)\n",
    "y = CC_DF_final['default']"
   ]
  },
  {
   "cell_type": "code",
   "execution_count": 55,
   "id": "a847e927",
   "metadata": {},
   "outputs": [],
   "source": [
    "X_train,X_test,y_train,y_test=train_test_split(X,y,test_size=0.25,random_state=0)"
   ]
  },
  {
   "cell_type": "code",
   "execution_count": null,
   "id": "3b964025",
   "metadata": {},
   "outputs": [],
   "source": [
    "X_train"
   ]
  },
  {
   "cell_type": "markdown",
   "id": "adb2239b",
   "metadata": {},
   "source": [
    "### Scaling the data"
   ]
  },
  {
   "cell_type": "code",
   "execution_count": 57,
   "id": "59a843ad",
   "metadata": {},
   "outputs": [],
   "source": [
    "scaler = StandardScaler()"
   ]
  },
  {
   "cell_type": "code",
   "execution_count": 58,
   "id": "9b67d01d",
   "metadata": {},
   "outputs": [],
   "source": [
    "X_train_scaled = scaler.fit_transform(X_train)"
   ]
  },
  {
   "cell_type": "code",
   "execution_count": 59,
   "id": "8379fdde",
   "metadata": {},
   "outputs": [],
   "source": [
    "logger.info('DATA PREPARING FOR MODELING ENDS!')"
   ]
  },
  {
   "cell_type": "markdown",
   "id": "f7d70a01",
   "metadata": {},
   "source": [
    "## Model Building "
   ]
  },
  {
   "cell_type": "code",
   "execution_count": 60,
   "id": "52d77a96",
   "metadata": {},
   "outputs": [],
   "source": [
    "logger.info('MODELING STARTS!')"
   ]
  },
  {
   "cell_type": "code",
   "execution_count": 61,
   "id": "d6f3c69b",
   "metadata": {},
   "outputs": [],
   "source": [
    "# Helper Function for printing Accuracy matrices, plotting Confusiuon matrix and ROC curve\n",
    "\n",
    "def helper(model,X_train,y_train,X_test,y_test):\n",
    "    train_pred = model.predict(X_train)\n",
    "    test_pred = model.predict(X_test)\n",
    "\n",
    "    train_acc = accuracy_score(train_pred, y_train)\n",
    "    test_acc = accuracy_score(test_pred, y_test)\n",
    "    prec = precision_score(y_test, test_pred)\n",
    "    recc = recall_score(y_test, test_pred)\n",
    "    f1 = f1_score(y_test, test_pred)\n",
    "    acc_matrices = {'Train accuracy':train_acc,'Test accuracy':test_acc,'Precision':prec,'Recall':recc,'F1 Score':f1}\n",
    "\n",
    "    print('\\nTraining Accuracy Score: ',train_acc)\n",
    "    print('Testing Accuracy Score: ',test_acc)\n",
    "    print('Precision on test data: ',prec)\n",
    "    print('Recall on test data: ',recc)\n",
    "    print('F1 score on test data: ',f1)\n",
    "    print('\\n========================================================')\n",
    "    print('Classification Report on Train data')\n",
    "    print(classification_report(train_pred, y_train))\n",
    "    print('\\n========================================================')\n",
    "    print('Classification Report on Test data')\n",
    "    print(classification_report(test_pred, y_test))\n",
    "\n",
    "    print('\\n========================================================')\n",
    "    # Plotting Confusion Matrix and ROC curve\n",
    "    f,ax =  plt.subplots(1,2,figsize=(14,6))\n",
    "    #plt.figure(figsize=(6,4))\n",
    "    ConfMatrix = confusion_matrix(test_pred, y_test)\n",
    "    sns.heatmap(ConfMatrix,annot=True, cmap='YlGnBu', fmt=\"d\", \n",
    "                xticklabels = ['Non-default', 'Default'], \n",
    "                yticklabels = ['Non-default', 'Default'],linewidths=.5,ax = ax[0])\n",
    "    ax[0].set_ylabel('True label')\n",
    "    ax[0].set_xlabel('Predicted label')\n",
    "    ax[0].set_title('Confusion Matrix')\n",
    "\n",
    "    global fpr,tpr,thresholds\n",
    "    fpr,tpr,thresholds = roc_curve(test_pred, y_test)\n",
    "    ax[1].plot(fpr,tpr,color = 'r')\n",
    "    ax[1].plot(fpr,fpr,color = 'green')\n",
    "    ax[1].set_ylabel('TPR')\n",
    "    ax[1].set_xlabel('FPR')\n",
    "    ax[1].set_title('ROC Curve')\n",
    "    plt.show()\n",
    "    return acc_matrices"
   ]
  },
  {
   "cell_type": "markdown",
   "id": "62799f91",
   "metadata": {},
   "source": [
    "### 1. Logistic Regression"
   ]
  },
  {
   "cell_type": "code",
   "execution_count": 62,
   "id": "af938240",
   "metadata": {},
   "outputs": [],
   "source": [
    "logger.info('MODEL - LOGISTIC REGRESSION STARTS!')"
   ]
  },
  {
   "cell_type": "code",
   "execution_count": 63,
   "id": "321b2970",
   "metadata": {},
   "outputs": [],
   "source": [
    "LogR = LogisticRegression()"
   ]
  },
  {
   "cell_type": "code",
   "execution_count": null,
   "id": "5c03ba03",
   "metadata": {},
   "outputs": [],
   "source": [
    "LogR.fit(X_train_scaled,y_train)"
   ]
  },
  {
   "cell_type": "code",
   "execution_count": 65,
   "id": "f0a6871d",
   "metadata": {},
   "outputs": [],
   "source": [
    "X_test_scaled = scaler.transform(X_test)"
   ]
  },
  {
   "cell_type": "code",
   "execution_count": null,
   "id": "6569ca10",
   "metadata": {},
   "outputs": [],
   "source": [
    "helper(LogR,X_train_scaled,y_train,X_test_scaled, y_test)"
   ]
  },
  {
   "cell_type": "code",
   "execution_count": 67,
   "id": "546b7fd1",
   "metadata": {},
   "outputs": [],
   "source": [
    "logger.info('MODEL - LOGISTIC REGRESSION ENDS!')"
   ]
  },
  {
   "cell_type": "markdown",
   "id": "6103f842",
   "metadata": {},
   "source": [
    "### 2. Decicion Tree"
   ]
  },
  {
   "cell_type": "code",
   "execution_count": 68,
   "id": "faacd951",
   "metadata": {},
   "outputs": [],
   "source": [
    "logger.info('MODEL - DECICION TREE STARTS!')"
   ]
  },
  {
   "cell_type": "code",
   "execution_count": 69,
   "id": "afa7e09f",
   "metadata": {},
   "outputs": [],
   "source": [
    "D_tree = DecisionTreeClassifier()"
   ]
  },
  {
   "cell_type": "code",
   "execution_count": null,
   "id": "ba9e84df",
   "metadata": {},
   "outputs": [],
   "source": [
    "D_tree.fit(X_train_scaled,y_train)"
   ]
  },
  {
   "cell_type": "code",
   "execution_count": null,
   "id": "302baf8a",
   "metadata": {},
   "outputs": [],
   "source": [
    "helper(D_tree,X_train_scaled,y_train,X_test_scaled,y_test)"
   ]
  },
  {
   "cell_type": "code",
   "execution_count": 72,
   "id": "828060f1",
   "metadata": {},
   "outputs": [],
   "source": [
    "logger.info('MODEL - DECICION TREE ENDS!')"
   ]
  },
  {
   "cell_type": "markdown",
   "id": "0aeac076",
   "metadata": {},
   "source": [
    "### 3. Random Forest"
   ]
  },
  {
   "cell_type": "code",
   "execution_count": 73,
   "id": "4e43f299",
   "metadata": {},
   "outputs": [],
   "source": [
    "logger.info('MODEL - RANDOM FOREST STARTS!')"
   ]
  },
  {
   "cell_type": "code",
   "execution_count": 74,
   "id": "a2a4f4e1",
   "metadata": {},
   "outputs": [],
   "source": [
    "RF = RandomForestClassifier()"
   ]
  },
  {
   "cell_type": "code",
   "execution_count": null,
   "id": "c660f05b",
   "metadata": {},
   "outputs": [],
   "source": [
    "RF.fit(X_train_scaled,y_train)"
   ]
  },
  {
   "cell_type": "code",
   "execution_count": null,
   "id": "3a3dac56",
   "metadata": {},
   "outputs": [],
   "source": [
    "helper(RF,X_train_scaled,y_train,X_test_scaled,y_test)"
   ]
  },
  {
   "cell_type": "code",
   "execution_count": 77,
   "id": "2ce27676",
   "metadata": {},
   "outputs": [],
   "source": [
    "logger.info('MODEL - RANDOM FOREST ENDS!')"
   ]
  },
  {
   "cell_type": "markdown",
   "id": "83c5f55a",
   "metadata": {},
   "source": [
    "### 4. Support Vector Machine"
   ]
  },
  {
   "cell_type": "code",
   "execution_count": 78,
   "id": "36d4b1a2",
   "metadata": {},
   "outputs": [],
   "source": [
    "logger.info('MODEL - SUPPORT VECTOR MACHINE STARTS!')"
   ]
  },
  {
   "cell_type": "code",
   "execution_count": 79,
   "id": "8ce8628d",
   "metadata": {},
   "outputs": [],
   "source": [
    "svm = SVC()"
   ]
  },
  {
   "cell_type": "code",
   "execution_count": null,
   "id": "e49304fd",
   "metadata": {},
   "outputs": [],
   "source": [
    "svm.fit(X_train_scaled,y_train)"
   ]
  },
  {
   "cell_type": "code",
   "execution_count": null,
   "id": "208db4e3",
   "metadata": {},
   "outputs": [],
   "source": [
    "helper(svm,X_train_scaled,y_train,X_test_scaled,y_test)"
   ]
  },
  {
   "cell_type": "code",
   "execution_count": 82,
   "id": "e0062354",
   "metadata": {},
   "outputs": [],
   "source": [
    "logger.info('MODEL - SUPPORT VECTOR MACHINE ENDS!')"
   ]
  },
  {
   "cell_type": "code",
   "execution_count": 83,
   "id": "cefde138",
   "metadata": {},
   "outputs": [],
   "source": [
    "model={'Logistic Regression':{'Train accuracy': 0.7238201221252069,\n",
    " 'Test accuracy': 0.714261256634138,\n",
    " 'Precision': 0.7172472387425658,\n",
    " 'Recall': 0.716030534351145,\n",
    " 'F1 Score': 0.7166383701188456},'Decicion Tree':{'Train accuracy': 0.9996290589510929,\n",
    " 'Test accuracy': 0.7574045540147235,\n",
    " 'Precision': 0.7573566504119724,\n",
    " 'Recall': 0.7640373197625105,\n",
    " 'F1 Score': 0.7606823171761525},'Random Forest':{'Train accuracy': 0.9995719910974148,\n",
    " 'Test accuracy': 0.8413799007019346,\n",
    " 'Precision': 0.8594806118818926,\n",
    " 'Recall': 0.8196776929601357,\n",
    " 'F1 Score': 0.8391074064426501},'SVC':{'Train accuracy': 0.7722136620441705,\n",
    " 'Test accuracy': 0.7546652970381784,\n",
    " 'Precision': 0.7730304669190553,\n",
    " 'Recall': 0.7273960983884648,\n",
    " 'F1 Score': 0.7495193148051039}}"
   ]
  },
  {
   "cell_type": "code",
   "execution_count": 84,
   "id": "f37fe2ae",
   "metadata": {},
   "outputs": [],
   "source": [
    "model=pd.DataFrame(model)"
   ]
  },
  {
   "cell_type": "code",
   "execution_count": null,
   "id": "1325c5e3",
   "metadata": {},
   "outputs": [],
   "source": [
    "model"
   ]
  },
  {
   "cell_type": "markdown",
   "id": "b9817c1a",
   "metadata": {},
   "source": [
    "    All model Accuracy was good but Decicion Tree and Random Forest was to good\n",
    "    Decicion Tree vs Random Frorest\n",
    "        > Both training accuracy was good but Random Forest test accuracy was also high\n",
    "        > F1 Score is also high for Random Forest \n",
    "        > So i will go with Random Forest"
   ]
  },
  {
   "cell_type": "code",
   "execution_count": 86,
   "id": "0d300234",
   "metadata": {},
   "outputs": [],
   "source": [
    "logger.info('MODELING ENDS!')"
   ]
  },
  {
   "cell_type": "markdown",
   "id": "38ad46ee",
   "metadata": {},
   "source": [
    "## Feature Engineering"
   ]
  },
  {
   "cell_type": "code",
   "execution_count": 87,
   "id": "57d72325",
   "metadata": {},
   "outputs": [],
   "source": [
    "logger.info('FEATURE ENGINEERING STARTS!')"
   ]
  },
  {
   "cell_type": "code",
   "execution_count": 88,
   "id": "ae7aad35",
   "metadata": {},
   "outputs": [],
   "source": [
    "CC_DF_FE = CC_DF_final.copy()"
   ]
  },
  {
   "cell_type": "code",
   "execution_count": null,
   "id": "3c40df8d",
   "metadata": {},
   "outputs": [],
   "source": [
    "CC_DF_FE"
   ]
  },
  {
   "cell_type": "code",
   "execution_count": null,
   "id": "dbfe1d35",
   "metadata": {},
   "outputs": [],
   "source": [
    "CC_DF_FE.columns"
   ]
  },
  {
   "cell_type": "markdown",
   "id": "07be1da2",
   "metadata": {},
   "source": [
    "#### AVG_BILL_AMT (creating new column)"
   ]
  },
  {
   "cell_type": "code",
   "execution_count": 91,
   "id": "de8433ac",
   "metadata": {},
   "outputs": [],
   "source": [
    "CC_DF_FE['AVG_BILL_AMT']=(CC_DF_FE['BILL_AMT1']+CC_DF_FE['BILL_AMT2']+CC_DF_FE['BILL_AMT3']+CC_DF_FE['BILL_AMT4']+CC_DF_FE['BILL_AMT5']+CC_DF_FE['BILL_AMT6']/6)"
   ]
  },
  {
   "cell_type": "markdown",
   "id": "9f3af77a",
   "metadata": {},
   "source": [
    "#### AVG_PAY_AMT (creating new column)"
   ]
  },
  {
   "cell_type": "code",
   "execution_count": 92,
   "id": "9389e322",
   "metadata": {},
   "outputs": [],
   "source": [
    "CC_DF_FE['AVG_PAY_AMT']=(CC_DF_FE['PAY_0']+CC_DF_FE['PAY_2']+CC_DF_FE['PAY_3']+CC_DF_FE['PAY_4']+CC_DF_FE['PAY_5']+CC_DF_FE['PAY_6']/6)"
   ]
  },
  {
   "cell_type": "code",
   "execution_count": null,
   "id": "3d61f529",
   "metadata": {},
   "outputs": [],
   "source": [
    "CC_DF_FE.tail()"
   ]
  },
  {
   "cell_type": "code",
   "execution_count": 94,
   "id": "420d3996",
   "metadata": {},
   "outputs": [],
   "source": [
    "X=CC_DF_FE.drop('default',axis=1)\n",
    "y=CC_DF_FE['default']"
   ]
  },
  {
   "cell_type": "code",
   "execution_count": 95,
   "id": "977d97da",
   "metadata": {},
   "outputs": [],
   "source": [
    "X_train,X_test,y_train,y_test = train_test_split(X,y,test_size=0.25)"
   ]
  },
  {
   "cell_type": "code",
   "execution_count": 96,
   "id": "3738ae4d",
   "metadata": {},
   "outputs": [],
   "source": [
    "X_train_scaled=scaler.fit_transform(X_train)"
   ]
  },
  {
   "cell_type": "code",
   "execution_count": 97,
   "id": "145d879a",
   "metadata": {},
   "outputs": [],
   "source": [
    "X_test_scaled=scaler.transform(X_test)"
   ]
  },
  {
   "cell_type": "code",
   "execution_count": null,
   "id": "514c12ef",
   "metadata": {},
   "outputs": [],
   "source": [
    "RF.fit(X_train_scaled,y_train)"
   ]
  },
  {
   "cell_type": "code",
   "execution_count": null,
   "id": "d5defd5a",
   "metadata": {},
   "outputs": [],
   "source": [
    "helper(RF,X_train_scaled,y_train,X_test_scaled,y_test)"
   ]
  },
  {
   "cell_type": "code",
   "execution_count": 100,
   "id": "05768294",
   "metadata": {},
   "outputs": [],
   "source": [
    "model['Random Forest with AVG_BILL']=[0.9996290589510929,0.8415511042629686,0.857646229739253,0.8235493148367451,0.8402520065590748]\n",
    "model['Random Forest with AVG_PAY']=[0.9996861268047709,0.837527820578668,0.8543620598124225,0.8178892088768422,0.8357278864462524]"
   ]
  },
  {
   "cell_type": "code",
   "execution_count": 101,
   "id": "f57f668e",
   "metadata": {},
   "outputs": [],
   "source": [
    "logger.info('FEATURE ENGINEERING ENDS!')"
   ]
  },
  {
   "cell_type": "code",
   "execution_count": null,
   "id": "c260171a",
   "metadata": {},
   "outputs": [],
   "source": [
    "model.apply(lambda x:x*100)"
   ]
  },
  {
   "cell_type": "markdown",
   "id": "7ca24286",
   "metadata": {},
   "source": [
    "    Feature Enginering\n",
    "        > After creating new column Average Bill Amount it healped model F1 score.\n",
    "        > Average Pay Amount was not helpful it actule draged down the F1 Score to 83.5%\n",
    "        > So I will continue with AVG_BILL and Drop AVG_PAY column"
   ]
  },
  {
   "cell_type": "markdown",
   "id": "07f386d9",
   "metadata": {},
   "source": [
    "# Final model training with Random Forest and new column AVG_BILL"
   ]
  },
  {
   "cell_type": "code",
   "execution_count": 103,
   "id": "9970ff4a",
   "metadata": {},
   "outputs": [],
   "source": [
    "logger.info('FINAL MODEL BUILDING STARTS!')"
   ]
  },
  {
   "cell_type": "code",
   "execution_count": null,
   "id": "791b2c7a",
   "metadata": {},
   "outputs": [],
   "source": [
    "CC_DF_final.head()"
   ]
  },
  {
   "cell_type": "code",
   "execution_count": 105,
   "id": "a036e633",
   "metadata": {},
   "outputs": [],
   "source": [
    "CC_DF_final['AVG_BILL_AMT']=(CC_DF_final['BILL_AMT1']+CC_DF_final['BILL_AMT2']+CC_DF_final['BILL_AMT3']+CC_DF_final['BILL_AMT4']+CC_DF_final['BILL_AMT5']+CC_DF_final['BILL_AMT6']/6)"
   ]
  },
  {
   "cell_type": "code",
   "execution_count": null,
   "id": "f98b2ce4",
   "metadata": {},
   "outputs": [],
   "source": [
    "CC_DF_final.tail()"
   ]
  },
  {
   "cell_type": "code",
   "execution_count": 107,
   "id": "bf8a020b",
   "metadata": {},
   "outputs": [],
   "source": [
    "X=CC_DF_final.drop('default',axis=1)\n",
    "y=CC_DF_final['default']"
   ]
  },
  {
   "cell_type": "code",
   "execution_count": 108,
   "id": "4dd8b267",
   "metadata": {},
   "outputs": [],
   "source": [
    "X_train,X_test,y_train,y_test = train_test_split(X,y,test_size=0.25,random_state=0)"
   ]
  },
  {
   "cell_type": "code",
   "execution_count": 109,
   "id": "5b2c2ed4",
   "metadata": {},
   "outputs": [],
   "source": [
    "X_train_scaled=scaler.fit_transform(X_train)"
   ]
  },
  {
   "cell_type": "code",
   "execution_count": 110,
   "id": "9d63013a",
   "metadata": {},
   "outputs": [],
   "source": [
    "X_test_scaled=scaler.transform(X_test)"
   ]
  },
  {
   "cell_type": "code",
   "execution_count": 111,
   "id": "abd72971",
   "metadata": {},
   "outputs": [],
   "source": [
    "RF_F=RandomForestClassifier()"
   ]
  },
  {
   "cell_type": "code",
   "execution_count": null,
   "id": "37c656c2",
   "metadata": {},
   "outputs": [],
   "source": [
    "RF_F.fit(X_train_scaled,y_train)"
   ]
  },
  {
   "cell_type": "code",
   "execution_count": null,
   "id": "61912b8d",
   "metadata": {},
   "outputs": [],
   "source": [
    "helper(RF_F,X_train_scaled,y_train,X_test_scaled,y_test)"
   ]
  },
  {
   "cell_type": "code",
   "execution_count": 114,
   "id": "822c5d28",
   "metadata": {},
   "outputs": [],
   "source": [
    "fin_m=({'Scores':{'Train accuracy': 0.9996290589510929,\n",
    " 'Test accuracy': 0.8425783256291731,\n",
    " 'Precision': 0.859192348565356,\n",
    " 'Recall': 0.8229007633587786,\n",
    " 'F1 Score': 0.8406550558877048}})\n",
    "final_model= pd.DataFrame(fin_m)"
   ]
  },
  {
   "cell_type": "code",
   "execution_count": null,
   "id": "901332bd",
   "metadata": {},
   "outputs": [],
   "source": [
    "final_model"
   ]
  },
  {
   "cell_type": "code",
   "execution_count": 116,
   "id": "4c917320",
   "metadata": {},
   "outputs": [],
   "source": [
    "logger.info(final_model)"
   ]
  },
  {
   "cell_type": "code",
   "execution_count": 117,
   "id": "6ea7ea48",
   "metadata": {},
   "outputs": [],
   "source": [
    "logger.info('FINAL MODEL BUILDING ENDS!')"
   ]
  },
  {
   "cell_type": "markdown",
   "id": "e587135a",
   "metadata": {},
   "source": [
    "## Saving the file"
   ]
  },
  {
   "cell_type": "code",
   "execution_count": 118,
   "id": "b2701056",
   "metadata": {},
   "outputs": [],
   "source": [
    "logger.info('SAVING THE MODEL...')"
   ]
  },
  {
   "cell_type": "code",
   "execution_count": 119,
   "id": "531bac7c",
   "metadata": {},
   "outputs": [],
   "source": [
    "pickle.dump(RF_F, open('ccdp.pkl', 'wb'))\n",
    "\n",
    "logger.info('MODEL SAVED!')"
   ]
  },
  {
   "cell_type": "code",
   "execution_count": 120,
   "id": "7bd7599a",
   "metadata": {},
   "outputs": [],
   "source": [
    "pickle.dump(scaler, open('scaler.pkl', 'wb'))"
   ]
  },
  {
   "cell_type": "markdown",
   "id": "4cc782bd",
   "metadata": {},
   "source": [
    "#### Compress the model.pkl, to easy the process of deployement"
   ]
  },
  {
   "cell_type": "code",
   "execution_count": 123,
   "id": "86a26217",
   "metadata": {},
   "outputs": [],
   "source": [
    "import bz2 as bz2"
   ]
  },
  {
   "cell_type": "code",
   "execution_count": 124,
   "id": "6a085682",
   "metadata": {},
   "outputs": [],
   "source": [
    "def compressed_pickle(title, data):\n",
    "  with bz2.BZ2File(title + '.pbz2', 'w') as f:\n",
    "    pickle.dump(data, f)"
   ]
  },
  {
   "cell_type": "code",
   "execution_count": 125,
   "id": "893788e4",
   "metadata": {},
   "outputs": [],
   "source": [
    "compressed_pickle('ccdp', RF_F)"
   ]
  },
  {
   "cell_type": "code",
   "execution_count": 126,
   "id": "37d10455",
   "metadata": {},
   "outputs": [],
   "source": [
    "logger.info('PROJECT RUNNING ENDS!')"
   ]
  },
  {
   "cell_type": "code",
   "execution_count": null,
   "id": "470f9795",
   "metadata": {},
   "outputs": [],
   "source": []
  },
  {
   "cell_type": "code",
   "execution_count": null,
   "id": "e969bae7",
   "metadata": {},
   "outputs": [],
   "source": []
  }
 ],
 "metadata": {
  "kernelspec": {
   "display_name": "Python 3",
   "language": "python",
   "name": "python3"
  },
  "language_info": {
   "codemirror_mode": {
    "name": "ipython",
    "version": 3
   },
   "file_extension": ".py",
   "mimetype": "text/x-python",
   "name": "python",
   "nbconvert_exporter": "python",
   "pygments_lexer": "ipython3",
   "version": "3.11.8"
  }
 },
 "nbformat": 4,
 "nbformat_minor": 5
}
